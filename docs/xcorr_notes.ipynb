{
 "cells": [
  {
   "cell_type": "markdown",
   "metadata": {},
   "source": [
    "Notes on the multi-channel cross correlation functions from [EQcorrscan documentation](https://eqcorrscan.readthedocs.io/en/latest/submodules/utils.correlate.html)\n",
    "\n",
    "The time-domain normalized cross correlation for muti-channel data is given as:\n",
    "\n",
    "$c(t) = \\frac{\\Sigma_y (a_y - \\bar{a}_y)(b_{t+y} - \\bar{b}_\\tau)}{\\sqrt{\\Sigma_y (a_y - \\bar{a})(a_y - \\bar{a}) \\Sigma_y(b_{t+y} - \\bar{b}_\\tau)(b_{t+y} - \\bar{b_\\tau})}}$\n",
    "\n",
    "With \n",
    " - $c(t)$ the normalized cross-correlation at time $t$ (vector)\n",
    " - $a$ the template vector with length $y$ (vector)\n",
    " - $\\bar{a}$ is the mean of the template vector (scalar)\n",
    " - $b$ the vector of continuous data starting at reference time $t$\n",
    " - $\\bar{b}$ is the local mean of the continuous data for $\\tau \\in [t, t+y]$\n",
    "\n",
    "\n",
    "In the frequency domain, the correlation provided by fftw_normxcorr is the \"inverse FFT of the dot product of the FFTs of the stream and the reversed, normalized templates\"\n",
    "\n",
    "$c(t) = \\mathcal{F}^{-1}\\left( \\mathcal{F}(a_y) \\cdot \\mathcal{F}(\\hat{b}_{t+y}) \\right) $\n",
    "\n",
    "Normalized and flipped traces are calculated as  \n",
    "\n",
    "$ \\hat{\\xi}_y = \\frac{\\xi_y - \\bar{\\xi_y}}{y \\sigma_{\\xi_y}}$\n",
    "\n",
    "with data vector $\\xi$ with $y$ elements and the standard deviation $\\sigma$.  \n",
    "\n",
    "The normalized cross correlation using the frequency domain is thus:\n",
    "\n",
    "$c(t) = \\frac{\\mathcal{F}^{-1}(\\mathcal{F}(a_y) \\cdot \\mathcal{F}(b_{t+y}))}\n"
   ]
  },
  {
   "cell_type": "markdown",
   "metadata": {},
   "source": [
    "Thus a the normalized sum of cross-correlations is given as:\n",
    "\n"
   ]
  }
 ],
 "metadata": {
  "language_info": {
   "name": "python"
  }
 },
 "nbformat": 4,
 "nbformat_minor": 2
}
